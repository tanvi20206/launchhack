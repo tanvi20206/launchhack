{
  "cells": [
    {
      "cell_type": "markdown",
      "metadata": {
        "id": "view-in-github",
        "colab_type": "text"
      },
      "source": [
        "<a href=\"https://colab.research.google.com/github/tanvi20206/launchhack/blob/main/LaunchHackIII_train.ipynb\" target=\"_parent\"><img src=\"https://colab.research.google.com/assets/colab-badge.svg\" alt=\"Open In Colab\"/></a>"
      ]
    },
    {
      "cell_type": "code",
      "execution_count": null,
      "metadata": {
        "colab": {
          "base_uri": "https://localhost:8080/"
        },
        "id": "-LtSYHUG-c0t",
        "outputId": "cfca36bd-cbd5-439a-8b79-f3e9c519b0a9"
      },
      "outputs": [
        {
          "output_type": "stream",
          "name": "stdout",
          "text": [
            "Mounted at /content/gdrive\n"
          ]
        }
      ],
      "source": [
        "from google.colab import drive\n",
        "drive.mount('/content/gdrive')"
      ]
    },
    {
      "cell_type": "code",
      "execution_count": null,
      "metadata": {
        "colab": {
          "base_uri": "https://localhost:8080/"
        },
        "id": "aBzEGiPw57nA",
        "outputId": "d9842c2d-8ec8-4afa-aec3-08bbf6c3fcd6"
      },
      "outputs": [
        {
          "output_type": "stream",
          "name": "stdout",
          "text": [
            "Mounted at /content/drive\n"
          ]
        }
      ],
      "source": [
        "from google.colab import drive\n",
        "drive.mount('/content/drive')"
      ]
    },
    {
      "cell_type": "code",
      "execution_count": null,
      "metadata": {
        "id": "ER7IVgPuorqj"
      },
      "outputs": [],
      "source": [
        "!pip install --upgrade tensorflow\n",
        "!pip install --upgrade keras"
      ]
    },
    {
      "cell_type": "code",
      "execution_count": null,
      "metadata": {
        "colab": {
          "base_uri": "https://localhost:8080/"
        },
        "id": "BMcVfYsstQ2o",
        "outputId": "c356d193-33d8-41ee-a793-2a11c07c5d02"
      },
      "outputs": [
        {
          "output_type": "stream",
          "name": "stdout",
          "text": [
            "TensorFlow version: 2.16.1\n",
            "Keras version: 3.1.1\n"
          ]
        }
      ],
      "source": [
        "import tensorflow as tf\n",
        "import keras\n",
        "\n",
        "print(\"TensorFlow version:\", tf.__version__)\n",
        "print(\"Keras version:\", keras.__version__)"
      ]
    },
    {
      "cell_type": "code",
      "execution_count": null,
      "metadata": {
        "id": "Ab9yqv1XB-M7"
      },
      "outputs": [],
      "source": [
        "\n",
        "!unzip /content/drive/MyDrive/Launchhack/archive.zip"
      ]
    },
    {
      "cell_type": "code",
      "execution_count": null,
      "metadata": {
        "id": "5NTNPkmlCQbN"
      },
      "outputs": [],
      "source": [
        "import tensorflow as tf\n",
        "import matplotlib.pyplot as plt\n",
        "import pandas as pd\n",
        "import seaborn as sns"
      ]
    },
    {
      "cell_type": "markdown",
      "metadata": {
        "id": "kb6FFK3Kffm5"
      },
      "source": [
        "###Preprocessing###"
      ]
    },
    {
      "cell_type": "code",
      "execution_count": null,
      "metadata": {
        "colab": {
          "base_uri": "https://localhost:8080/"
        },
        "id": "O7I7RF2fZWhS",
        "outputId": "49276b85-209e-49e2-8b39-5efcc4cbb47e"
      },
      "outputs": [
        {
          "output_type": "stream",
          "name": "stdout",
          "text": [
            "Found 70295 files belonging to 38 classes.\n"
          ]
        }
      ],
      "source": [
        "import tensorflow as tf\n",
        "\n",
        "training_set = tf.keras.utils.image_dataset_from_directory (\n",
        "    '/content/gdrive/MyDrive/New Plant Diseases Dataset(Augmented)/New Plant Diseases Dataset(Augmented)/train',\n",
        "    labels=\"inferred\",\n",
        "    label_mode=\"categorical\",\n",
        "    class_names=None,\n",
        "    color_mode=\"rgb\",\n",
        "    batch_size=32,\n",
        "    image_size=(128, 128),\n",
        "    shuffle=True,\n",
        "    seed=None,\n",
        "    validation_split=None,\n",
        "    subset=None,\n",
        "    interpolation=\"bilinear\",\n",
        "    follow_links=False,\n",
        "    crop_to_aspect_ratio=False,\n",
        "\n",
        ")"
      ]
    },
    {
      "cell_type": "markdown",
      "metadata": {
        "id": "RgV5SeYv7Jk_"
      },
      "source": [
        "### Validation Set ###"
      ]
    },
    {
      "cell_type": "code",
      "execution_count": null,
      "metadata": {
        "colab": {
          "base_uri": "https://localhost:8080/"
        },
        "id": "EPnsRfDtajx7",
        "outputId": "f84f085d-53ee-43a9-af77-e7c58923664c"
      },
      "outputs": [
        {
          "output_type": "stream",
          "name": "stdout",
          "text": [
            "Found 17572 files belonging to 38 classes.\n"
          ]
        }
      ],
      "source": [
        "import tensorflow as tf\n",
        "\n",
        "validation_set = tf.keras.utils.image_dataset_from_directory(\n",
        "    '/content/gdrive/MyDrive/New Plant Diseases Dataset(Augmented)/New Plant Diseases Dataset(Augmented)/valid',\n",
        "    labels=\"inferred\",\n",
        "    label_mode=\"categorical\",\n",
        "    class_names=None,\n",
        "    color_mode=\"rgb\",\n",
        "    batch_size=32,\n",
        "    image_size=(128, 128),\n",
        "    shuffle=True,\n",
        "    seed=None,\n",
        "    validation_split=None,\n",
        "    subset=None,\n",
        "    interpolation=\"bilinear\",\n",
        "    follow_links=False,\n",
        "    crop_to_aspect_ratio=False,\n",
        "\n",
        "\n",
        ")"
      ]
    },
    {
      "cell_type": "code",
      "execution_count": null,
      "metadata": {
        "colab": {
          "base_uri": "https://localhost:8080/"
        },
        "id": "iVuQcfobbO7h",
        "outputId": "06ec8e18-83d5-40d4-ec98-15f88131ca24"
      },
      "outputs": [
        {
          "output_type": "execute_result",
          "data": {
            "text/plain": [
              "<_PrefetchDataset element_spec=(TensorSpec(shape=(None, 128, 128, 3), dtype=tf.float32, name=None), TensorSpec(shape=(None, 38), dtype=tf.float32, name=None))>"
            ]
          },
          "metadata": {},
          "execution_count": 6
        }
      ],
      "source": [
        "training_set"
      ]
    },
    {
      "cell_type": "code",
      "execution_count": null,
      "metadata": {
        "colab": {
          "base_uri": "https://localhost:8080/"
        },
        "id": "9QZKnoaqFM0T",
        "outputId": "50b1e3a1-b912-44ad-d030-7d56168bc4f0"
      },
      "outputs": [
        {
          "output_type": "execute_result",
          "data": {
            "text/plain": [
              "<_PrefetchDataset element_spec=(TensorSpec(shape=(None, 128, 128, 3), dtype=tf.float32, name=None), TensorSpec(shape=(None, 38), dtype=tf.float32, name=None))>"
            ]
          },
          "metadata": {},
          "execution_count": 7
        }
      ],
      "source": [
        "validation_set"
      ]
    },
    {
      "cell_type": "code",
      "execution_count": null,
      "metadata": {
        "id": "JnFnk5BfbUnD",
        "colab": {
          "base_uri": "https://localhost:8080/"
        },
        "outputId": "3d9e1a43-f384-4704-b24a-f45bbd7b92d6"
      },
      "outputs": [
        {
          "output_type": "stream",
          "name": "stdout",
          "text": [
            "tf.Tensor(\n",
            "[[[[196.5  210.5  184.5 ]\n",
            "   [204.   218.   192.  ]\n",
            "   [203.25 219.25 192.25]\n",
            "   ...\n",
            "   [131.5  171.5  108.5 ]\n",
            "   [133.   173.   110.  ]\n",
            "   [136.75 177.75 111.75]]\n",
            "\n",
            "  [[190.75 204.75 178.75]\n",
            "   [189.5  205.5  178.5 ]\n",
            "   [197.   213.   186.  ]\n",
            "   ...\n",
            "   [132.25 172.25 109.25]\n",
            "   [134.   174.   111.  ]\n",
            "   [133.25 174.25 108.25]]\n",
            "\n",
            "  [[194.   210.   183.  ]\n",
            "   [189.   205.   178.  ]\n",
            "   [192.   211.   183.  ]\n",
            "   ...\n",
            "   [128.25 168.25 105.25]\n",
            "   [129.25 169.25 106.25]\n",
            "   [134.5  175.5  109.5 ]]\n",
            "\n",
            "  ...\n",
            "\n",
            "  [[ 68.25 105.25  53.25]\n",
            "   [ 68.25 105.25  51.25]\n",
            "   [ 70.75 107.75  53.75]\n",
            "   ...\n",
            "   [166.5  173.75 140.  ]\n",
            "   [150.   148.75 122.25]\n",
            "   [110.75 104.    83.75]]\n",
            "\n",
            "  [[ 70.   107.    55.  ]\n",
            "   [ 67.25 104.25  50.25]\n",
            "   [ 65.25 102.25  48.25]\n",
            "   ...\n",
            "   [154.75 152.75 129.25]\n",
            "   [111.75 100.5   85.5 ]\n",
            "   [ 76.5   59.    50.25]]\n",
            "\n",
            "  [[ 69.25 106.25  54.25]\n",
            "   [ 67.25 104.25  50.25]\n",
            "   [ 65.75 102.75  48.75]\n",
            "   ...\n",
            "   [121.   114.    96.  ]\n",
            "   [ 58.5   41.    32.25]\n",
            "   [ 50.75  26.25  23.5 ]]]\n",
            "\n",
            "\n",
            " [[[122.   109.   116.  ]\n",
            "   [124.   111.   118.  ]\n",
            "   [125.5  112.5  119.5 ]\n",
            "   ...\n",
            "   [161.75 151.75 159.75]\n",
            "   [159.25 149.25 157.25]\n",
            "   [165.75 155.75 163.75]]\n",
            "\n",
            "  [[120.5  107.5  114.5 ]\n",
            "   [114.   101.   108.  ]\n",
            "   [119.25 106.25 113.25]\n",
            "   ...\n",
            "   [162.25 152.25 160.25]\n",
            "   [164.   154.   162.  ]\n",
            "   [163.25 153.25 161.25]]\n",
            "\n",
            "  [[127.25 114.25 121.25]\n",
            "   [125.75 112.75 119.75]\n",
            "   [116.25 103.25 110.25]\n",
            "   ...\n",
            "   [168.25 158.25 166.25]\n",
            "   [167.25 157.25 165.25]\n",
            "   [167.   157.   165.  ]]\n",
            "\n",
            "  ...\n",
            "\n",
            "  [[115.25 103.25 113.25]\n",
            "   [127.5  115.5  125.5 ]\n",
            "   [118.25 106.25 116.25]\n",
            "   ...\n",
            "   [147.   135.   145.  ]\n",
            "   [148.25 136.25 146.25]\n",
            "   [143.25 131.25 141.25]]\n",
            "\n",
            "  [[126.5  114.5  124.5 ]\n",
            "   [135.   123.   133.  ]\n",
            "   [127.75 115.75 125.75]\n",
            "   ...\n",
            "   [144.75 132.75 142.75]\n",
            "   [148.75 136.75 146.75]\n",
            "   [145.75 133.75 143.75]]\n",
            "\n",
            "  [[125.   113.   123.  ]\n",
            "   [127.5  115.5  125.5 ]\n",
            "   [135.5  123.5  133.5 ]\n",
            "   ...\n",
            "   [143.25 131.25 141.25]\n",
            "   [149.   137.   147.  ]\n",
            "   [150.5  138.5  148.5 ]]]\n",
            "\n",
            "\n",
            " [[[  0.     0.     0.  ]\n",
            "   [  0.     0.     0.  ]\n",
            "   [  0.     0.     0.  ]\n",
            "   ...\n",
            "   [  0.     0.     0.  ]\n",
            "   [  0.     0.     0.  ]\n",
            "   [  0.     0.     0.  ]]\n",
            "\n",
            "  [[  0.     0.     0.  ]\n",
            "   [  0.     0.     0.  ]\n",
            "   [  0.     0.     0.  ]\n",
            "   ...\n",
            "   [  0.     0.     0.  ]\n",
            "   [  0.     0.     0.  ]\n",
            "   [  0.     0.     0.  ]]\n",
            "\n",
            "  [[  0.     0.     0.  ]\n",
            "   [  0.     0.     0.  ]\n",
            "   [  0.     0.     0.  ]\n",
            "   ...\n",
            "   [  0.     0.     0.  ]\n",
            "   [  0.     0.     0.  ]\n",
            "   [  0.     0.     0.  ]]\n",
            "\n",
            "  ...\n",
            "\n",
            "  [[  0.     0.     0.  ]\n",
            "   [  0.     0.     0.  ]\n",
            "   [  0.     0.     0.  ]\n",
            "   ...\n",
            "   [  0.     0.     0.  ]\n",
            "   [  0.     0.     0.  ]\n",
            "   [  0.     0.     0.  ]]\n",
            "\n",
            "  [[  0.     0.     0.  ]\n",
            "   [  0.     0.     0.  ]\n",
            "   [  0.     0.     0.  ]\n",
            "   ...\n",
            "   [  0.     0.     0.  ]\n",
            "   [  0.     0.     0.  ]\n",
            "   [  0.     0.     0.  ]]\n",
            "\n",
            "  [[  0.     0.     0.  ]\n",
            "   [  0.     0.     0.  ]\n",
            "   [  0.     0.     0.  ]\n",
            "   ...\n",
            "   [  0.     0.     0.  ]\n",
            "   [  0.     0.     0.  ]\n",
            "   [  0.     0.     0.  ]]]\n",
            "\n",
            "\n",
            " ...\n",
            "\n",
            "\n",
            " [[[122.5  117.5  121.5 ]\n",
            "   [126.25 121.25 125.25]\n",
            "   [122.75 117.75 121.75]\n",
            "   ...\n",
            "   [132.75 127.75 131.75]\n",
            "   [135.75 130.75 134.75]\n",
            "   [136.25 131.25 135.25]]\n",
            "\n",
            "  [[117.25 112.25 116.25]\n",
            "   [114.5  109.5  113.5 ]\n",
            "   [119.25 114.25 118.25]\n",
            "   ...\n",
            "   [134.5  129.5  133.5 ]\n",
            "   [135.75 130.75 134.75]\n",
            "   [131.75 126.75 130.75]]\n",
            "\n",
            "  [[117.   112.   116.  ]\n",
            "   [118.75 113.75 117.75]\n",
            "   [121.5  116.5  120.5 ]\n",
            "   ...\n",
            "   [137.25 132.25 136.25]\n",
            "   [138.75 133.75 137.75]\n",
            "   [134.75 129.75 133.75]]\n",
            "\n",
            "  ...\n",
            "\n",
            "  [[ 81.    76.    80.  ]\n",
            "   [ 80.75  75.75  79.75]\n",
            "   [ 80.25  75.25  79.25]\n",
            "   ...\n",
            "   [ 98.75  93.75  97.75]\n",
            "   [ 98.25  93.25  97.25]\n",
            "   [ 98.    93.    97.  ]]\n",
            "\n",
            "  [[ 76.25  71.25  75.25]\n",
            "   [ 76.75  71.75  75.75]\n",
            "   [ 74.5   69.5   73.5 ]\n",
            "   ...\n",
            "   [ 90.    85.    89.  ]\n",
            "   [ 95.    90.    94.  ]\n",
            "   [ 92.5   87.5   91.5 ]]\n",
            "\n",
            "  [[ 73.5   68.5   72.5 ]\n",
            "   [ 79.75  74.75  78.75]\n",
            "   [ 74.5   69.5   73.5 ]\n",
            "   ...\n",
            "   [ 92.5   87.5   91.5 ]\n",
            "   [ 89.75  84.75  88.75]\n",
            "   [ 93.75  88.75  92.75]]]\n",
            "\n",
            "\n",
            " [[[186.75 176.75 175.75]\n",
            "   [180.75 170.75 169.75]\n",
            "   [184.5  174.5  173.5 ]\n",
            "   ...\n",
            "   [181.   171.   169.  ]\n",
            "   [185.75 175.75 173.75]\n",
            "   [192.25 182.25 180.25]]\n",
            "\n",
            "  [[194.5  184.5  183.5 ]\n",
            "   [188.25 178.25 177.25]\n",
            "   [194.5  184.5  183.5 ]\n",
            "   ...\n",
            "   [200.75 190.75 188.75]\n",
            "   [187.   177.   175.  ]\n",
            "   [180.75 170.75 168.75]]\n",
            "\n",
            "  [[196.5  186.5  185.5 ]\n",
            "   [186.25 176.25 175.25]\n",
            "   [189.75 179.75 178.75]\n",
            "   ...\n",
            "   [192.75 182.75 180.75]\n",
            "   [183.25 173.25 171.25]\n",
            "   [189.5  179.5  177.5 ]]\n",
            "\n",
            "  ...\n",
            "\n",
            "  [[187.75 176.75 172.75]\n",
            "   [176.   165.   161.  ]\n",
            "   [177.75 166.75 162.75]\n",
            "   ...\n",
            "   [185.25 174.25 170.25]\n",
            "   [187.75 176.75 172.75]\n",
            "   [193.   182.   178.  ]]\n",
            "\n",
            "  [[183.   172.   168.  ]\n",
            "   [180.   169.   165.  ]\n",
            "   [183.   172.   168.  ]\n",
            "   ...\n",
            "   [178.5  167.5  163.5 ]\n",
            "   [179.   168.   164.  ]\n",
            "   [180.75 169.75 165.75]]\n",
            "\n",
            "  [[179.75 168.75 164.75]\n",
            "   [177.25 166.25 162.25]\n",
            "   [171.5  160.5  156.5 ]\n",
            "   ...\n",
            "   [185.5  174.5  170.5 ]\n",
            "   [188.5  177.5  173.5 ]\n",
            "   [183.   172.   168.  ]]]\n",
            "\n",
            "\n",
            " [[[154.75 144.75 143.75]\n",
            "   [147.25 137.25 136.25]\n",
            "   [150.   140.   139.  ]\n",
            "   ...\n",
            "   [115.5  104.5  102.5 ]\n",
            "   [126.25 115.25 113.25]\n",
            "   [123.75 112.75 110.75]]\n",
            "\n",
            "  [[139.   129.   128.  ]\n",
            "   [148.   138.   137.  ]\n",
            "   [140.5  130.5  129.5 ]\n",
            "   ...\n",
            "   [125.5  114.5  112.5 ]\n",
            "   [124.25 113.25 111.25]\n",
            "   [119.   108.   106.  ]]\n",
            "\n",
            "  [[140.75 130.75 129.75]\n",
            "   [146.   136.   135.  ]\n",
            "   [145.5  135.5  134.5 ]\n",
            "   ...\n",
            "   [124.25 113.25 111.25]\n",
            "   [119.   108.   106.  ]\n",
            "   [125.   114.   112.  ]]\n",
            "\n",
            "  ...\n",
            "\n",
            "  [[123.25 109.25 109.25]\n",
            "   [123.25 109.25 109.25]\n",
            "   [118.5  104.5  104.5 ]\n",
            "   ...\n",
            "   [102.5   90.5   90.5 ]\n",
            "   [100.    88.    88.  ]\n",
            "   [ 93.5   81.5   81.5 ]]\n",
            "\n",
            "  [[118.25 104.25 104.25]\n",
            "   [124.25 110.25 110.25]\n",
            "   [116.75 102.75 102.75]\n",
            "   ...\n",
            "   [ 99.25  87.25  87.25]\n",
            "   [ 99.    87.    87.  ]\n",
            "   [ 98.75  86.75  86.75]]\n",
            "\n",
            "  [[112.5   98.5   98.5 ]\n",
            "   [114.25 100.25 100.25]\n",
            "   [118.5  104.5  104.5 ]\n",
            "   ...\n",
            "   [102.75  90.75  90.75]\n",
            "   [108.    96.    96.  ]\n",
            "   [ 90.    78.    78.  ]]]], shape=(32, 128, 128, 3), dtype=float32) (32, 128, 128, 3)\n",
            "tf.Tensor(\n",
            "[[0. 0. 0. ... 0. 0. 0.]\n",
            " [0. 0. 0. ... 0. 0. 0.]\n",
            " [0. 0. 0. ... 0. 0. 0.]\n",
            " ...\n",
            " [0. 0. 0. ... 0. 0. 0.]\n",
            " [0. 0. 0. ... 0. 0. 0.]\n",
            " [0. 0. 0. ... 0. 0. 0.]], shape=(32, 38), dtype=float32) (32, 38)\n"
          ]
        }
      ],
      "source": [
        "for x , y in training_set :\n",
        "  print(x,x.shape)\n",
        "  print(y,y.shape)\n",
        "  break"
      ]
    },
    {
      "cell_type": "markdown",
      "metadata": {
        "id": "XNfiF6s6G0iI"
      },
      "source": [
        "\n"
      ]
    },
    {
      "cell_type": "code",
      "execution_count": null,
      "metadata": {
        "id": "deZLXhgNHAje"
      },
      "outputs": [],
      "source": [
        "from tensorflow.keras.layers import Dense,Conv2D,MaxPool2D,Flatten, Dropout"
      ]
    },
    {
      "cell_type": "code",
      "execution_count": null,
      "metadata": {
        "id": "gALSgx3BHd_8"
      },
      "outputs": [],
      "source": [
        "from tensorflow.keras.models import Sequential\n",
        "from keras.layers import MaxPool2D"
      ]
    },
    {
      "cell_type": "code",
      "execution_count": null,
      "metadata": {
        "id": "36KntWsSHuoj"
      },
      "outputs": [],
      "source": [
        "model = Sequential()"
      ]
    },
    {
      "cell_type": "code",
      "execution_count": null,
      "metadata": {
        "id": "gqyaLAv3IJLU"
      },
      "outputs": [],
      "source": [
        "## building convolution layer"
      ]
    },
    {
      "cell_type": "code",
      "execution_count": null,
      "metadata": {
        "colab": {
          "base_uri": "https://localhost:8080/"
        },
        "id": "i5kVXKmKf0XT",
        "outputId": "200a8e8b-2a41-4f43-e9fe-a81bc369bd79"
      },
      "outputs": [
        {
          "output_type": "stream",
          "name": "stderr",
          "text": [
            "/usr/local/lib/python3.10/dist-packages/keras/src/layers/convolutional/base_conv.py:99: UserWarning: Do not pass an `input_shape`/`input_dim` argument to a layer. When using Sequential models, prefer using an `Input(shape)` object as the first layer in the model instead.\n",
            "  super().__init__(\n"
          ]
        }
      ],
      "source": [
        "model.add(Conv2D(filters=32,kernel_size=3,padding='same',activation ='relu' ,input_shape =[128,128,3]))\n",
        "model.add(Conv2D(filters=32,kernel_size=3,activation ='relu'))\n",
        "model.add(MaxPool2D(pool_size=2, strides=2))"
      ]
    },
    {
      "cell_type": "code",
      "execution_count": null,
      "metadata": {
        "id": "1xEVUiRkhFOb"
      },
      "outputs": [],
      "source": [
        "model.add(Conv2D(filters=64,kernel_size=3,padding='same',activation ='relu' ))\n",
        "model.add(Conv2D(filters=64,kernel_size=3,activation ='relu'))\n",
        "model.add(MaxPool2D(pool_size=2, strides=2))"
      ]
    },
    {
      "cell_type": "code",
      "execution_count": null,
      "metadata": {
        "id": "X4kt_8mchgcr"
      },
      "outputs": [],
      "source": [
        "model.add(Conv2D(filters=128,kernel_size=3,padding='same',activation ='relu' ))\n",
        "model.add(Conv2D(filters=128,kernel_size=3,activation ='relu'))\n",
        "model.add(MaxPool2D(pool_size=2, strides=2))"
      ]
    },
    {
      "cell_type": "code",
      "execution_count": null,
      "metadata": {
        "id": "DW-IySqciYFf"
      },
      "outputs": [],
      "source": [
        "\n",
        "model.add(Conv2D(filters=256,kernel_size=3,padding='same',activation ='relu' ))\n",
        "model.add(Conv2D(filters=256,kernel_size=3,activation ='relu'))\n",
        "model.add(MaxPool2D(pool_size=2, strides=2))"
      ]
    },
    {
      "cell_type": "code",
      "execution_count": null,
      "metadata": {
        "id": "s0z8nd07NFgG"
      },
      "outputs": [],
      "source": [
        "\n",
        "model.add(Conv2D(filters=512,kernel_size=3,padding='same',activation ='relu'))\n",
        "model.add(Conv2D(filters=512,kernel_size=3,activation ='relu'))\n",
        "model.add(MaxPool2D(pool_size=2, strides=2))"
      ]
    },
    {
      "cell_type": "code",
      "execution_count": null,
      "metadata": {
        "id": "bwlUPqLcOF3m"
      },
      "outputs": [],
      "source": [
        "model.add(Dropout(0.25)) # to avoid overfitting"
      ]
    },
    {
      "cell_type": "code",
      "execution_count": null,
      "metadata": {
        "id": "Myh6Ofb-jOBe"
      },
      "outputs": [],
      "source": [
        "model.add(Flatten())"
      ]
    },
    {
      "cell_type": "code",
      "execution_count": null,
      "metadata": {
        "id": "7Nhiyvsdjgt6"
      },
      "outputs": [],
      "source": [
        "model.add(Dense(units=1500, activation ='relu'))"
      ]
    },
    {
      "cell_type": "code",
      "execution_count": null,
      "metadata": {
        "id": "UPE2URDaOr97"
      },
      "outputs": [],
      "source": [
        "model.add(Dropout(0.4))"
      ]
    },
    {
      "cell_type": "code",
      "execution_count": null,
      "metadata": {
        "id": "mIJB81EPkWCM"
      },
      "outputs": [],
      "source": [
        "# output layer\n",
        "model.add(Dense(units=38,activation='softmax'))"
      ]
    },
    {
      "cell_type": "markdown",
      "metadata": {
        "id": "UYvUvt3IkoMe"
      },
      "source": [
        "**COMPILING MODEL**"
      ]
    },
    {
      "cell_type": "code",
      "execution_count": null,
      "metadata": {
        "id": "2cfqUBaRktfs"
      },
      "outputs": [],
      "source": [
        "model.compile(optimizer=tf.keras.optimizers.Adam(\n",
        "    learning_rate=0.0001),loss='categorical_crossentropy',metrics=['accuracy'])\n"
      ]
    },
    {
      "cell_type": "code",
      "execution_count": null,
      "metadata": {
        "id": "HmgHKeqelFD5"
      },
      "outputs": [],
      "source": [
        "model.summary()"
      ]
    },
    {
      "cell_type": "markdown",
      "metadata": {
        "id": "tsh2-mo5F2Qm"
      },
      "source": [
        "**MODEL TRAINING**\n"
      ]
    },
    {
      "cell_type": "markdown",
      "metadata": {
        "id": "cKJHiI0TSYKa"
      },
      "source": []
    },
    {
      "cell_type": "code",
      "execution_count": null,
      "metadata": {
        "colab": {
          "base_uri": "https://localhost:8080/"
        },
        "id": "E4969YPKVJkG",
        "outputId": "96c41332-8da1-4236-ce0d-cae0b5ffa71f"
      },
      "outputs": [
        {
          "name": "stdout",
          "output_type": "stream",
          "text": [
            "(None, 128, 128, 3)\n"
          ]
        }
      ],
      "source": [
        "print(model.input_shape)"
      ]
    },
    {
      "cell_type": "code",
      "execution_count": null,
      "metadata": {
        "colab": {
          "base_uri": "https://localhost:8080/"
        },
        "id": "XNpTVagAXix9",
        "outputId": "f4a50f80-118a-49c9-ebe2-19d0decef4c3"
      },
      "outputs": [
        {
          "name": "stdout",
          "output_type": "stream",
          "text": [
            "conv2d\n",
            "conv2d_1\n",
            "max_pooling2d\n",
            "conv2d_2\n",
            "conv2d_3\n",
            "max_pooling2d_1\n",
            "conv2d_4\n",
            "conv2d_5\n",
            "max_pooling2d_2\n",
            "conv2d_6\n",
            "conv2d_7\n",
            "max_pooling2d_3\n",
            "conv2d_8\n",
            "conv2d_9\n",
            "max_pooling2d_4\n",
            "dropout\n",
            "flatten\n",
            "dense\n",
            "dense_1\n",
            "dropout_1\n",
            "dense_2\n"
          ]
        }
      ],
      "source": [
        "for layer in model.layers:\n",
        "    print(layer.name)\n",
        "\n"
      ]
    },
    {
      "cell_type": "code",
      "execution_count": null,
      "metadata": {
        "id": "FAg2zVrjGL-c"
      },
      "outputs": [],
      "source": [
        "training_history = model.fit(x=training_set , validation_data=validation_set,epochs=10) # training is done on kaggle as In my system it takes lots of time due to low GPU"
      ]
    },
    {
      "cell_type": "markdown",
      "metadata": {
        "id": "_E7NGOs9apQ8"
      },
      "source": [
        "**Model evaluation on Training set**"
      ]
    },
    {
      "cell_type": "code",
      "execution_count": null,
      "metadata": {
        "id": "544uxcq2awdJ"
      },
      "outputs": [],
      "source": [
        "train_loss,train_acc = model.evaluate(training_set) # done on kaggle"
      ]
    },
    {
      "cell_type": "code",
      "execution_count": null,
      "metadata": {
        "id": "lFy3LAVbda1Y"
      },
      "outputs": [],
      "source": [
        "print(train_loss, training_acc)  # done on kaggle"
      ]
    },
    {
      "cell_type": "code",
      "execution_count": null,
      "metadata": {
        "id": "K_JR8ekydh1l"
      },
      "outputs": [],
      "source": [
        "val_loss,val_acc = model.evaluate(validation_set)  # done on kaggle"
      ]
    },
    {
      "cell_type": "code",
      "execution_count": null,
      "metadata": {
        "id": "SukJn0gfdruo"
      },
      "outputs": [],
      "source": [
        "print(val_loss, val_acc)  # done on kaggle"
      ]
    },
    {
      "cell_type": "markdown",
      "metadata": {
        "id": "NsmvgvEyd2vj"
      },
      "source": [
        "**saving model**"
      ]
    },
    {
      "cell_type": "code",
      "execution_count": null,
      "metadata": {
        "id": "eGZr_RTFd569"
      },
      "outputs": [],
      "source": [
        "model.save(\"trained_model.h5\")  # done on kaggle"
      ]
    },
    {
      "cell_type": "code",
      "execution_count": null,
      "metadata": {
        "id": "RuqsDKRfeVbN"
      },
      "outputs": [],
      "source": [
        "model.save(\"trained_model.keras\")  # done on kaggle"
      ]
    },
    {
      "cell_type": "code",
      "execution_count": null,
      "metadata": {
        "id": "_5NIQgYWgC8w"
      },
      "outputs": [],
      "source": [
        "training_history.history # done on kaggle"
      ]
    },
    {
      "cell_type": "code",
      "execution_count": null,
      "metadata": {
        "id": "FyYC6eVXgNOt"
      },
      "outputs": [],
      "source": [
        "# Recording history\n",
        "\n",
        "import json\n",
        "with open(\"training_hist.json\",\"w\") as f: # done on kaggle\n",
        "  json.dump(training_history.history,f)"
      ]
    },
    {
      "cell_type": "markdown",
      "metadata": {
        "id": "_GF9ZSudhF7m"
      },
      "source": [
        "**Loading the model from Kaggle **"
      ]
    },
    {
      "cell_type": "code",
      "execution_count": 28,
      "metadata": {
        "colab": {
          "base_uri": "https://localhost:8080/"
        },
        "id": "kb3gcKwkZhop",
        "outputId": "41cde685-fadd-4d4f-caf1-af238fa7a62e"
      },
      "outputs": [
        {
          "output_type": "stream",
          "name": "stderr",
          "text": [
            "WARNING:absl:Compiled the loaded model, but the compiled metrics have yet to be built. `model.compile_metrics` will be empty until you train or evaluate the model.\n"
          ]
        }
      ],
      "source": [
        "from tensorflow.keras.models import load_model\n",
        "\n",
        "model = load_model('/content/traintmodel_model.h5')"
      ]
    },
    {
      "cell_type": "markdown",
      "metadata": {
        "id": "9cY3o7BymJMd"
      },
      "source": []
    },
    {
      "cell_type": "code",
      "execution_count": null,
      "metadata": {
        "id": "kYhziW91YvzU"
      },
      "outputs": [],
      "source": []
    },
    {
      "cell_type": "code",
      "execution_count": 29,
      "metadata": {
        "colab": {
          "base_uri": "https://localhost:8080/",
          "height": 785
        },
        "id": "-5u_IQfKKqKj",
        "outputId": "eb9abcaf-dfc3-406c-9bd6-6d0a21b02566"
      },
      "outputs": [
        {
          "output_type": "display_data",
          "data": {
            "text/plain": [
              "\u001b[1mModel: \"sequential_3\"\u001b[0m\n"
            ],
            "text/html": [
              "<pre style=\"white-space:pre;overflow-x:auto;line-height:normal;font-family:Menlo,'DejaVu Sans Mono',consolas,'Courier New',monospace\"><span style=\"font-weight: bold\">Model: \"sequential_3\"</span>\n",
              "</pre>\n"
            ]
          },
          "metadata": {}
        },
        {
          "output_type": "display_data",
          "data": {
            "text/plain": [
              "┏━━━━━━━━━━━━━━━━━━━━━━━━━━━━━━━━━━━━━━┳━━━━━━━━━━━━━━━━━━━━━━━━━━━━━┳━━━━━━━━━━━━━━━━━┓\n",
              "┃\u001b[1m \u001b[0m\u001b[1mLayer (type)                        \u001b[0m\u001b[1m \u001b[0m┃\u001b[1m \u001b[0m\u001b[1mOutput Shape               \u001b[0m\u001b[1m \u001b[0m┃\u001b[1m \u001b[0m\u001b[1m        Param #\u001b[0m\u001b[1m \u001b[0m┃\n",
              "┡━━━━━━━━━━━━━━━━━━━━━━━━━━━━━━━━━━━━━━╇━━━━━━━━━━━━━━━━━━━━━━━━━━━━━╇━━━━━━━━━━━━━━━━━┩\n",
              "│ conv2d_30 (\u001b[38;5;33mConv2D\u001b[0m)                   │ (\u001b[38;5;45mNone\u001b[0m, \u001b[38;5;34m128\u001b[0m, \u001b[38;5;34m128\u001b[0m, \u001b[38;5;34m32\u001b[0m)        │             \u001b[38;5;34m896\u001b[0m │\n",
              "├──────────────────────────────────────┼─────────────────────────────┼─────────────────┤\n",
              "│ conv2d_31 (\u001b[38;5;33mConv2D\u001b[0m)                   │ (\u001b[38;5;45mNone\u001b[0m, \u001b[38;5;34m126\u001b[0m, \u001b[38;5;34m126\u001b[0m, \u001b[38;5;34m32\u001b[0m)        │           \u001b[38;5;34m9,248\u001b[0m │\n",
              "├──────────────────────────────────────┼─────────────────────────────┼─────────────────┤\n",
              "│ max_pooling2d_15 (\u001b[38;5;33mMaxPooling2D\u001b[0m)      │ (\u001b[38;5;45mNone\u001b[0m, \u001b[38;5;34m63\u001b[0m, \u001b[38;5;34m63\u001b[0m, \u001b[38;5;34m32\u001b[0m)          │               \u001b[38;5;34m0\u001b[0m │\n",
              "├──────────────────────────────────────┼─────────────────────────────┼─────────────────┤\n",
              "│ conv2d_32 (\u001b[38;5;33mConv2D\u001b[0m)                   │ (\u001b[38;5;45mNone\u001b[0m, \u001b[38;5;34m63\u001b[0m, \u001b[38;5;34m63\u001b[0m, \u001b[38;5;34m64\u001b[0m)          │          \u001b[38;5;34m18,496\u001b[0m │\n",
              "├──────────────────────────────────────┼─────────────────────────────┼─────────────────┤\n",
              "│ conv2d_33 (\u001b[38;5;33mConv2D\u001b[0m)                   │ (\u001b[38;5;45mNone\u001b[0m, \u001b[38;5;34m61\u001b[0m, \u001b[38;5;34m61\u001b[0m, \u001b[38;5;34m64\u001b[0m)          │          \u001b[38;5;34m36,928\u001b[0m │\n",
              "├──────────────────────────────────────┼─────────────────────────────┼─────────────────┤\n",
              "│ max_pooling2d_16 (\u001b[38;5;33mMaxPooling2D\u001b[0m)      │ (\u001b[38;5;45mNone\u001b[0m, \u001b[38;5;34m30\u001b[0m, \u001b[38;5;34m30\u001b[0m, \u001b[38;5;34m64\u001b[0m)          │               \u001b[38;5;34m0\u001b[0m │\n",
              "├──────────────────────────────────────┼─────────────────────────────┼─────────────────┤\n",
              "│ conv2d_34 (\u001b[38;5;33mConv2D\u001b[0m)                   │ (\u001b[38;5;45mNone\u001b[0m, \u001b[38;5;34m30\u001b[0m, \u001b[38;5;34m30\u001b[0m, \u001b[38;5;34m128\u001b[0m)         │          \u001b[38;5;34m73,856\u001b[0m │\n",
              "├──────────────────────────────────────┼─────────────────────────────┼─────────────────┤\n",
              "│ conv2d_35 (\u001b[38;5;33mConv2D\u001b[0m)                   │ (\u001b[38;5;45mNone\u001b[0m, \u001b[38;5;34m28\u001b[0m, \u001b[38;5;34m28\u001b[0m, \u001b[38;5;34m128\u001b[0m)         │         \u001b[38;5;34m147,584\u001b[0m │\n",
              "├──────────────────────────────────────┼─────────────────────────────┼─────────────────┤\n",
              "│ max_pooling2d_17 (\u001b[38;5;33mMaxPooling2D\u001b[0m)      │ (\u001b[38;5;45mNone\u001b[0m, \u001b[38;5;34m14\u001b[0m, \u001b[38;5;34m14\u001b[0m, \u001b[38;5;34m128\u001b[0m)         │               \u001b[38;5;34m0\u001b[0m │\n",
              "├──────────────────────────────────────┼─────────────────────────────┼─────────────────┤\n",
              "│ conv2d_36 (\u001b[38;5;33mConv2D\u001b[0m)                   │ (\u001b[38;5;45mNone\u001b[0m, \u001b[38;5;34m14\u001b[0m, \u001b[38;5;34m14\u001b[0m, \u001b[38;5;34m256\u001b[0m)         │         \u001b[38;5;34m295,168\u001b[0m │\n",
              "├──────────────────────────────────────┼─────────────────────────────┼─────────────────┤\n",
              "│ conv2d_37 (\u001b[38;5;33mConv2D\u001b[0m)                   │ (\u001b[38;5;45mNone\u001b[0m, \u001b[38;5;34m12\u001b[0m, \u001b[38;5;34m12\u001b[0m, \u001b[38;5;34m256\u001b[0m)         │         \u001b[38;5;34m590,080\u001b[0m │\n",
              "├──────────────────────────────────────┼─────────────────────────────┼─────────────────┤\n",
              "│ max_pooling2d_18 (\u001b[38;5;33mMaxPooling2D\u001b[0m)      │ (\u001b[38;5;45mNone\u001b[0m, \u001b[38;5;34m6\u001b[0m, \u001b[38;5;34m6\u001b[0m, \u001b[38;5;34m256\u001b[0m)           │               \u001b[38;5;34m0\u001b[0m │\n",
              "├──────────────────────────────────────┼─────────────────────────────┼─────────────────┤\n",
              "│ conv2d_38 (\u001b[38;5;33mConv2D\u001b[0m)                   │ (\u001b[38;5;45mNone\u001b[0m, \u001b[38;5;34m6\u001b[0m, \u001b[38;5;34m6\u001b[0m, \u001b[38;5;34m512\u001b[0m)           │       \u001b[38;5;34m1,180,160\u001b[0m │\n",
              "├──────────────────────────────────────┼─────────────────────────────┼─────────────────┤\n",
              "│ conv2d_39 (\u001b[38;5;33mConv2D\u001b[0m)                   │ (\u001b[38;5;45mNone\u001b[0m, \u001b[38;5;34m4\u001b[0m, \u001b[38;5;34m4\u001b[0m, \u001b[38;5;34m512\u001b[0m)           │       \u001b[38;5;34m2,359,808\u001b[0m │\n",
              "├──────────────────────────────────────┼─────────────────────────────┼─────────────────┤\n",
              "│ max_pooling2d_19 (\u001b[38;5;33mMaxPooling2D\u001b[0m)      │ (\u001b[38;5;45mNone\u001b[0m, \u001b[38;5;34m2\u001b[0m, \u001b[38;5;34m2\u001b[0m, \u001b[38;5;34m512\u001b[0m)           │               \u001b[38;5;34m0\u001b[0m │\n",
              "├──────────────────────────────────────┼─────────────────────────────┼─────────────────┤\n",
              "│ dropout_6 (\u001b[38;5;33mDropout\u001b[0m)                  │ (\u001b[38;5;45mNone\u001b[0m, \u001b[38;5;34m2\u001b[0m, \u001b[38;5;34m2\u001b[0m, \u001b[38;5;34m512\u001b[0m)           │               \u001b[38;5;34m0\u001b[0m │\n",
              "├──────────────────────────────────────┼─────────────────────────────┼─────────────────┤\n",
              "│ flatten_3 (\u001b[38;5;33mFlatten\u001b[0m)                  │ (\u001b[38;5;45mNone\u001b[0m, \u001b[38;5;34m2048\u001b[0m)                │               \u001b[38;5;34m0\u001b[0m │\n",
              "├──────────────────────────────────────┼─────────────────────────────┼─────────────────┤\n",
              "│ dense_6 (\u001b[38;5;33mDense\u001b[0m)                      │ (\u001b[38;5;45mNone\u001b[0m, \u001b[38;5;34m1500\u001b[0m)                │       \u001b[38;5;34m3,073,500\u001b[0m │\n",
              "├──────────────────────────────────────┼─────────────────────────────┼─────────────────┤\n",
              "│ dropout_7 (\u001b[38;5;33mDropout\u001b[0m)                  │ (\u001b[38;5;45mNone\u001b[0m, \u001b[38;5;34m1500\u001b[0m)                │               \u001b[38;5;34m0\u001b[0m │\n",
              "├──────────────────────────────────────┼─────────────────────────────┼─────────────────┤\n",
              "│ dense_7 (\u001b[38;5;33mDense\u001b[0m)                      │ (\u001b[38;5;45mNone\u001b[0m, \u001b[38;5;34m38\u001b[0m)                  │          \u001b[38;5;34m57,038\u001b[0m │\n",
              "└──────────────────────────────────────┴─────────────────────────────┴─────────────────┘\n"
            ],
            "text/html": [
              "<pre style=\"white-space:pre;overflow-x:auto;line-height:normal;font-family:Menlo,'DejaVu Sans Mono',consolas,'Courier New',monospace\">┏━━━━━━━━━━━━━━━━━━━━━━━━━━━━━━━━━━━━━━┳━━━━━━━━━━━━━━━━━━━━━━━━━━━━━┳━━━━━━━━━━━━━━━━━┓\n",
              "┃<span style=\"font-weight: bold\"> Layer (type)                         </span>┃<span style=\"font-weight: bold\"> Output Shape                </span>┃<span style=\"font-weight: bold\">         Param # </span>┃\n",
              "┡━━━━━━━━━━━━━━━━━━━━━━━━━━━━━━━━━━━━━━╇━━━━━━━━━━━━━━━━━━━━━━━━━━━━━╇━━━━━━━━━━━━━━━━━┩\n",
              "│ conv2d_30 (<span style=\"color: #0087ff; text-decoration-color: #0087ff\">Conv2D</span>)                   │ (<span style=\"color: #00d7ff; text-decoration-color: #00d7ff\">None</span>, <span style=\"color: #00af00; text-decoration-color: #00af00\">128</span>, <span style=\"color: #00af00; text-decoration-color: #00af00\">128</span>, <span style=\"color: #00af00; text-decoration-color: #00af00\">32</span>)        │             <span style=\"color: #00af00; text-decoration-color: #00af00\">896</span> │\n",
              "├──────────────────────────────────────┼─────────────────────────────┼─────────────────┤\n",
              "│ conv2d_31 (<span style=\"color: #0087ff; text-decoration-color: #0087ff\">Conv2D</span>)                   │ (<span style=\"color: #00d7ff; text-decoration-color: #00d7ff\">None</span>, <span style=\"color: #00af00; text-decoration-color: #00af00\">126</span>, <span style=\"color: #00af00; text-decoration-color: #00af00\">126</span>, <span style=\"color: #00af00; text-decoration-color: #00af00\">32</span>)        │           <span style=\"color: #00af00; text-decoration-color: #00af00\">9,248</span> │\n",
              "├──────────────────────────────────────┼─────────────────────────────┼─────────────────┤\n",
              "│ max_pooling2d_15 (<span style=\"color: #0087ff; text-decoration-color: #0087ff\">MaxPooling2D</span>)      │ (<span style=\"color: #00d7ff; text-decoration-color: #00d7ff\">None</span>, <span style=\"color: #00af00; text-decoration-color: #00af00\">63</span>, <span style=\"color: #00af00; text-decoration-color: #00af00\">63</span>, <span style=\"color: #00af00; text-decoration-color: #00af00\">32</span>)          │               <span style=\"color: #00af00; text-decoration-color: #00af00\">0</span> │\n",
              "├──────────────────────────────────────┼─────────────────────────────┼─────────────────┤\n",
              "│ conv2d_32 (<span style=\"color: #0087ff; text-decoration-color: #0087ff\">Conv2D</span>)                   │ (<span style=\"color: #00d7ff; text-decoration-color: #00d7ff\">None</span>, <span style=\"color: #00af00; text-decoration-color: #00af00\">63</span>, <span style=\"color: #00af00; text-decoration-color: #00af00\">63</span>, <span style=\"color: #00af00; text-decoration-color: #00af00\">64</span>)          │          <span style=\"color: #00af00; text-decoration-color: #00af00\">18,496</span> │\n",
              "├──────────────────────────────────────┼─────────────────────────────┼─────────────────┤\n",
              "│ conv2d_33 (<span style=\"color: #0087ff; text-decoration-color: #0087ff\">Conv2D</span>)                   │ (<span style=\"color: #00d7ff; text-decoration-color: #00d7ff\">None</span>, <span style=\"color: #00af00; text-decoration-color: #00af00\">61</span>, <span style=\"color: #00af00; text-decoration-color: #00af00\">61</span>, <span style=\"color: #00af00; text-decoration-color: #00af00\">64</span>)          │          <span style=\"color: #00af00; text-decoration-color: #00af00\">36,928</span> │\n",
              "├──────────────────────────────────────┼─────────────────────────────┼─────────────────┤\n",
              "│ max_pooling2d_16 (<span style=\"color: #0087ff; text-decoration-color: #0087ff\">MaxPooling2D</span>)      │ (<span style=\"color: #00d7ff; text-decoration-color: #00d7ff\">None</span>, <span style=\"color: #00af00; text-decoration-color: #00af00\">30</span>, <span style=\"color: #00af00; text-decoration-color: #00af00\">30</span>, <span style=\"color: #00af00; text-decoration-color: #00af00\">64</span>)          │               <span style=\"color: #00af00; text-decoration-color: #00af00\">0</span> │\n",
              "├──────────────────────────────────────┼─────────────────────────────┼─────────────────┤\n",
              "│ conv2d_34 (<span style=\"color: #0087ff; text-decoration-color: #0087ff\">Conv2D</span>)                   │ (<span style=\"color: #00d7ff; text-decoration-color: #00d7ff\">None</span>, <span style=\"color: #00af00; text-decoration-color: #00af00\">30</span>, <span style=\"color: #00af00; text-decoration-color: #00af00\">30</span>, <span style=\"color: #00af00; text-decoration-color: #00af00\">128</span>)         │          <span style=\"color: #00af00; text-decoration-color: #00af00\">73,856</span> │\n",
              "├──────────────────────────────────────┼─────────────────────────────┼─────────────────┤\n",
              "│ conv2d_35 (<span style=\"color: #0087ff; text-decoration-color: #0087ff\">Conv2D</span>)                   │ (<span style=\"color: #00d7ff; text-decoration-color: #00d7ff\">None</span>, <span style=\"color: #00af00; text-decoration-color: #00af00\">28</span>, <span style=\"color: #00af00; text-decoration-color: #00af00\">28</span>, <span style=\"color: #00af00; text-decoration-color: #00af00\">128</span>)         │         <span style=\"color: #00af00; text-decoration-color: #00af00\">147,584</span> │\n",
              "├──────────────────────────────────────┼─────────────────────────────┼─────────────────┤\n",
              "│ max_pooling2d_17 (<span style=\"color: #0087ff; text-decoration-color: #0087ff\">MaxPooling2D</span>)      │ (<span style=\"color: #00d7ff; text-decoration-color: #00d7ff\">None</span>, <span style=\"color: #00af00; text-decoration-color: #00af00\">14</span>, <span style=\"color: #00af00; text-decoration-color: #00af00\">14</span>, <span style=\"color: #00af00; text-decoration-color: #00af00\">128</span>)         │               <span style=\"color: #00af00; text-decoration-color: #00af00\">0</span> │\n",
              "├──────────────────────────────────────┼─────────────────────────────┼─────────────────┤\n",
              "│ conv2d_36 (<span style=\"color: #0087ff; text-decoration-color: #0087ff\">Conv2D</span>)                   │ (<span style=\"color: #00d7ff; text-decoration-color: #00d7ff\">None</span>, <span style=\"color: #00af00; text-decoration-color: #00af00\">14</span>, <span style=\"color: #00af00; text-decoration-color: #00af00\">14</span>, <span style=\"color: #00af00; text-decoration-color: #00af00\">256</span>)         │         <span style=\"color: #00af00; text-decoration-color: #00af00\">295,168</span> │\n",
              "├──────────────────────────────────────┼─────────────────────────────┼─────────────────┤\n",
              "│ conv2d_37 (<span style=\"color: #0087ff; text-decoration-color: #0087ff\">Conv2D</span>)                   │ (<span style=\"color: #00d7ff; text-decoration-color: #00d7ff\">None</span>, <span style=\"color: #00af00; text-decoration-color: #00af00\">12</span>, <span style=\"color: #00af00; text-decoration-color: #00af00\">12</span>, <span style=\"color: #00af00; text-decoration-color: #00af00\">256</span>)         │         <span style=\"color: #00af00; text-decoration-color: #00af00\">590,080</span> │\n",
              "├──────────────────────────────────────┼─────────────────────────────┼─────────────────┤\n",
              "│ max_pooling2d_18 (<span style=\"color: #0087ff; text-decoration-color: #0087ff\">MaxPooling2D</span>)      │ (<span style=\"color: #00d7ff; text-decoration-color: #00d7ff\">None</span>, <span style=\"color: #00af00; text-decoration-color: #00af00\">6</span>, <span style=\"color: #00af00; text-decoration-color: #00af00\">6</span>, <span style=\"color: #00af00; text-decoration-color: #00af00\">256</span>)           │               <span style=\"color: #00af00; text-decoration-color: #00af00\">0</span> │\n",
              "├──────────────────────────────────────┼─────────────────────────────┼─────────────────┤\n",
              "│ conv2d_38 (<span style=\"color: #0087ff; text-decoration-color: #0087ff\">Conv2D</span>)                   │ (<span style=\"color: #00d7ff; text-decoration-color: #00d7ff\">None</span>, <span style=\"color: #00af00; text-decoration-color: #00af00\">6</span>, <span style=\"color: #00af00; text-decoration-color: #00af00\">6</span>, <span style=\"color: #00af00; text-decoration-color: #00af00\">512</span>)           │       <span style=\"color: #00af00; text-decoration-color: #00af00\">1,180,160</span> │\n",
              "├──────────────────────────────────────┼─────────────────────────────┼─────────────────┤\n",
              "│ conv2d_39 (<span style=\"color: #0087ff; text-decoration-color: #0087ff\">Conv2D</span>)                   │ (<span style=\"color: #00d7ff; text-decoration-color: #00d7ff\">None</span>, <span style=\"color: #00af00; text-decoration-color: #00af00\">4</span>, <span style=\"color: #00af00; text-decoration-color: #00af00\">4</span>, <span style=\"color: #00af00; text-decoration-color: #00af00\">512</span>)           │       <span style=\"color: #00af00; text-decoration-color: #00af00\">2,359,808</span> │\n",
              "├──────────────────────────────────────┼─────────────────────────────┼─────────────────┤\n",
              "│ max_pooling2d_19 (<span style=\"color: #0087ff; text-decoration-color: #0087ff\">MaxPooling2D</span>)      │ (<span style=\"color: #00d7ff; text-decoration-color: #00d7ff\">None</span>, <span style=\"color: #00af00; text-decoration-color: #00af00\">2</span>, <span style=\"color: #00af00; text-decoration-color: #00af00\">2</span>, <span style=\"color: #00af00; text-decoration-color: #00af00\">512</span>)           │               <span style=\"color: #00af00; text-decoration-color: #00af00\">0</span> │\n",
              "├──────────────────────────────────────┼─────────────────────────────┼─────────────────┤\n",
              "│ dropout_6 (<span style=\"color: #0087ff; text-decoration-color: #0087ff\">Dropout</span>)                  │ (<span style=\"color: #00d7ff; text-decoration-color: #00d7ff\">None</span>, <span style=\"color: #00af00; text-decoration-color: #00af00\">2</span>, <span style=\"color: #00af00; text-decoration-color: #00af00\">2</span>, <span style=\"color: #00af00; text-decoration-color: #00af00\">512</span>)           │               <span style=\"color: #00af00; text-decoration-color: #00af00\">0</span> │\n",
              "├──────────────────────────────────────┼─────────────────────────────┼─────────────────┤\n",
              "│ flatten_3 (<span style=\"color: #0087ff; text-decoration-color: #0087ff\">Flatten</span>)                  │ (<span style=\"color: #00d7ff; text-decoration-color: #00d7ff\">None</span>, <span style=\"color: #00af00; text-decoration-color: #00af00\">2048</span>)                │               <span style=\"color: #00af00; text-decoration-color: #00af00\">0</span> │\n",
              "├──────────────────────────────────────┼─────────────────────────────┼─────────────────┤\n",
              "│ dense_6 (<span style=\"color: #0087ff; text-decoration-color: #0087ff\">Dense</span>)                      │ (<span style=\"color: #00d7ff; text-decoration-color: #00d7ff\">None</span>, <span style=\"color: #00af00; text-decoration-color: #00af00\">1500</span>)                │       <span style=\"color: #00af00; text-decoration-color: #00af00\">3,073,500</span> │\n",
              "├──────────────────────────────────────┼─────────────────────────────┼─────────────────┤\n",
              "│ dropout_7 (<span style=\"color: #0087ff; text-decoration-color: #0087ff\">Dropout</span>)                  │ (<span style=\"color: #00d7ff; text-decoration-color: #00d7ff\">None</span>, <span style=\"color: #00af00; text-decoration-color: #00af00\">1500</span>)                │               <span style=\"color: #00af00; text-decoration-color: #00af00\">0</span> │\n",
              "├──────────────────────────────────────┼─────────────────────────────┼─────────────────┤\n",
              "│ dense_7 (<span style=\"color: #0087ff; text-decoration-color: #0087ff\">Dense</span>)                      │ (<span style=\"color: #00d7ff; text-decoration-color: #00d7ff\">None</span>, <span style=\"color: #00af00; text-decoration-color: #00af00\">38</span>)                  │          <span style=\"color: #00af00; text-decoration-color: #00af00\">57,038</span> │\n",
              "└──────────────────────────────────────┴─────────────────────────────┴─────────────────┘\n",
              "</pre>\n"
            ]
          },
          "metadata": {}
        },
        {
          "output_type": "display_data",
          "data": {
            "text/plain": [
              "\u001b[1m Total params: \u001b[0m\u001b[38;5;34m7,842,764\u001b[0m (29.92 MB)\n"
            ],
            "text/html": [
              "<pre style=\"white-space:pre;overflow-x:auto;line-height:normal;font-family:Menlo,'DejaVu Sans Mono',consolas,'Courier New',monospace\"><span style=\"font-weight: bold\"> Total params: </span><span style=\"color: #00af00; text-decoration-color: #00af00\">7,842,764</span> (29.92 MB)\n",
              "</pre>\n"
            ]
          },
          "metadata": {}
        },
        {
          "output_type": "display_data",
          "data": {
            "text/plain": [
              "\u001b[1m Trainable params: \u001b[0m\u001b[38;5;34m7,842,762\u001b[0m (29.92 MB)\n"
            ],
            "text/html": [
              "<pre style=\"white-space:pre;overflow-x:auto;line-height:normal;font-family:Menlo,'DejaVu Sans Mono',consolas,'Courier New',monospace\"><span style=\"font-weight: bold\"> Trainable params: </span><span style=\"color: #00af00; text-decoration-color: #00af00\">7,842,762</span> (29.92 MB)\n",
              "</pre>\n"
            ]
          },
          "metadata": {}
        },
        {
          "output_type": "display_data",
          "data": {
            "text/plain": [
              "\u001b[1m Non-trainable params: \u001b[0m\u001b[38;5;34m0\u001b[0m (0.00 B)\n"
            ],
            "text/html": [
              "<pre style=\"white-space:pre;overflow-x:auto;line-height:normal;font-family:Menlo,'DejaVu Sans Mono',consolas,'Courier New',monospace\"><span style=\"font-weight: bold\"> Non-trainable params: </span><span style=\"color: #00af00; text-decoration-color: #00af00\">0</span> (0.00 B)\n",
              "</pre>\n"
            ]
          },
          "metadata": {}
        },
        {
          "output_type": "display_data",
          "data": {
            "text/plain": [
              "\u001b[1m Optimizer params: \u001b[0m\u001b[38;5;34m2\u001b[0m (12.00 B)\n"
            ],
            "text/html": [
              "<pre style=\"white-space:pre;overflow-x:auto;line-height:normal;font-family:Menlo,'DejaVu Sans Mono',consolas,'Courier New',monospace\"><span style=\"font-weight: bold\"> Optimizer params: </span><span style=\"color: #00af00; text-decoration-color: #00af00\">2</span> (12.00 B)\n",
              "</pre>\n"
            ]
          },
          "metadata": {}
        }
      ],
      "source": [
        "model.summary()"
      ]
    },
    {
      "cell_type": "code",
      "execution_count": 30,
      "metadata": {
        "colab": {
          "base_uri": "https://localhost:8080/"
        },
        "id": "xS0hsuAZKpCM",
        "outputId": "fcb76b13-09aa-41fd-bab9-c4d6a1be8513"
      },
      "outputs": [
        {
          "output_type": "stream",
          "name": "stdout",
          "text": [
            "(None, 128, 128, 3)\n"
          ]
        }
      ],
      "source": [
        "print(model.input_shape)\n"
      ]
    },
    {
      "cell_type": "code",
      "execution_count": 31,
      "metadata": {
        "colab": {
          "base_uri": "https://localhost:8080/"
        },
        "id": "PRXZvbwe0oJV",
        "outputId": "391dc213-af3d-45f5-bcd8-39776414fa55"
      },
      "outputs": [
        {
          "output_type": "stream",
          "name": "stdout",
          "text": [
            "2.16.1\n"
          ]
        }
      ],
      "source": [
        "import tensorflow as tf\n",
        "print(tf.__version__)\n"
      ]
    },
    {
      "cell_type": "code",
      "execution_count": 32,
      "metadata": {
        "colab": {
          "base_uri": "https://localhost:8080/"
        },
        "id": "kpCkW-4Xi1nM",
        "outputId": "c25ae49f-5851-4959-c787-cda41e6e115f"
      },
      "outputs": [
        {
          "output_type": "stream",
          "name": "stdout",
          "text": [
            "\u001b[1m2197/2197\u001b[0m \u001b[32m━━━━━━━━━━━━━━━━━━━━\u001b[0m\u001b[37m\u001b[0m \u001b[1m18209s\u001b[0m 8s/step - accuracy: 0.9910 - loss: 0.0292\n"
          ]
        }
      ],
      "source": [
        "train_loss,train_acc = model.evaluate(training_set)"
      ]
    },
    {
      "cell_type": "code",
      "execution_count": 33,
      "metadata": {
        "id": "i5rnY-RxjiGo",
        "colab": {
          "base_uri": "https://localhost:8080/"
        },
        "outputId": "aa27fd90-7dc1-4185-f24d-396cd7b80b9e"
      },
      "outputs": [
        {
          "output_type": "stream",
          "name": "stdout",
          "text": [
            "0.02853020653128624 0.9911942481994629\n"
          ]
        }
      ],
      "source": [
        "print(train_loss, train_acc)"
      ]
    },
    {
      "cell_type": "code",
      "execution_count": 34,
      "metadata": {
        "id": "FiYnhr9fjiDJ",
        "colab": {
          "base_uri": "https://localhost:8080/"
        },
        "outputId": "427530c3-1cc4-4bb1-fbf0-52ff6d49e40f"
      },
      "outputs": [
        {
          "output_type": "stream",
          "name": "stdout",
          "text": [
            "\u001b[1m550/550\u001b[0m \u001b[32m━━━━━━━━━━━━━━━━━━━━\u001b[0m\u001b[37m\u001b[0m \u001b[1m4071s\u001b[0m 7s/step - accuracy: 0.9633 - loss: 0.1231\n"
          ]
        }
      ],
      "source": [
        "val_loss,val_acc = model.evaluate(validation_set)"
      ]
    },
    {
      "cell_type": "code",
      "execution_count": 35,
      "metadata": {
        "id": "NVexygoZjiAi",
        "colab": {
          "base_uri": "https://localhost:8080/"
        },
        "outputId": "155f88c7-caf2-401d-c8f5-fecda7287de4"
      },
      "outputs": [
        {
          "output_type": "stream",
          "name": "stdout",
          "text": [
            "0.12434091418981552 0.9648303985595703\n"
          ]
        }
      ],
      "source": [
        "print(val_loss, val_acc)"
      ]
    },
    {
      "cell_type": "code",
      "execution_count": null,
      "metadata": {
        "colab": {
          "base_uri": "https://localhost:8080/"
        },
        "id": "7pYvaRBnjh-N",
        "outputId": "837e8b65-7702-4194-8b32-cad29ceddb82"
      },
      "outputs": [
        {
          "name": "stdout",
          "output_type": "stream",
          "text": [
            "{'accuracy': [0.7021267414093018, 0.90572589635849, 0.9441069960594177, 0.9615193009376526, 0.9708940982818604, 0.9772814512252808, 0.9803826808929443, 0.98381108045578, 0.9843943119049072, 0.9873817563056946], 'loss': [1.0067499876022339, 0.29399898648262024, 0.17053952813148499, 0.11519059538841248, 0.08835630118846893, 0.07012158632278442, 0.05941791087388992, 0.04956379905343056, 0.04720395430922508, 0.03837377578020096], 'val_accuracy': [0.8996699452400208, 0.9267584681510925, 0.9393922090530396, 0.9593102931976318, 0.9585704803466797, 0.9647166132926941, 0.9661393165588379, 0.959822416305542, 0.9698383808135986, 0.9461643695831299], 'val_loss': [0.3165130615234375, 0.22458063066005707, 0.18667089939117432, 0.12871390581130981, 0.1354214996099472, 0.12088548392057419, 0.12314071506261826, 0.15090811252593994, 0.10122226178646088, 0.2155602127313614]}\n"
          ]
        }
      ],
      "source": [
        "import json\n",
        "from keras.models import model_from_json\n",
        "\n",
        "# Load model architecture from JSON file\n",
        "with open('/content/training_hist.json', 'r') as json_file:\n",
        "    training_history = json.load(json_file)\n",
        "\n",
        "print(training_history)"
      ]
    },
    {
      "cell_type": "code",
      "execution_count": null,
      "metadata": {
        "colab": {
          "base_uri": "https://localhost:8080/"
        },
        "id": "p-cZDl_Xjh7Y",
        "outputId": "538ab755-2624-4615-bb26-487738ee03d6"
      },
      "outputs": [
        {
          "name": "stdout",
          "output_type": "stream",
          "text": [
            "Training Loss: [0.8235571384429932, 0.3719416856765747, 0.23154641687870026, 0.16665790975093842, 0.12465765327215195, 0.1002952978014946, 0.0809408575296402, 0.07273406535387039, 0.06021951511502266, 0.05453653261065483]\n",
            "Training Accuracy: [0.7454726696014404, 0.8808307647705078, 0.9247457385063171, 0.9455864429473877, 0.9589728713035583, 0.9672096371650696, 0.9740948677062988, 0.9762856364250183, 0.979898989200592, 0.9823742508888245]\n",
            "Validation Loss: [0.4237661063671112, 0.23448172211647034, 0.1851380318403244, 0.1694166213274002, 0.17860782146453857, 0.12927769124507904, 0.12323064357042313, 0.15736792981624603, 0.09915526956319809, 0.12229359149932861]\n",
            "Validation Accuracy: [0.8656384944915771, 0.9255064725875854, 0.9423514604568481, 0.9455952644348145, 0.9449692964553833, 0.9598793387413025, 0.9605622291564941, 0.9556680917739868, 0.9709765315055847, 0.9659686088562012]\n"
          ]
        }
      ],
      "source": [
        "# Extract the required variables from the loaded JSON data\n",
        "loss = training_history['loss']\n",
        "accuracy = training_history['accuracy']\n",
        "val_loss =training_history['val_loss']\n",
        "val_accuracy = training_history['val_accuracy']\n",
        "\n",
        "# Now you can use these variables as needed\n",
        "print(\"Training Loss:\", loss)\n",
        "print(\"Training Accuracy:\", accuracy)\n",
        "print(\"Validation Loss:\", val_loss)\n",
        "print(\"Validation Accuracy:\", val_accuracy)"
      ]
    },
    {
      "cell_type": "code",
      "execution_count": null,
      "metadata": {
        "colab": {
          "base_uri": "https://localhost:8080/"
        },
        "id": "ySnWnExfjh42",
        "outputId": "421b88fa-5930-4506-de6a-14d657125d81"
      },
      "outputs": [
        {
          "data": {
            "text/plain": [
              "[0.8656384944915771,\n",
              " 0.9255064725875854,\n",
              " 0.9423514604568481,\n",
              " 0.9455952644348145,\n",
              " 0.9449692964553833,\n",
              " 0.9598793387413025,\n",
              " 0.9605622291564941,\n",
              " 0.9556680917739868,\n",
              " 0.9709765315055847,\n",
              " 0.9659686088562012]"
            ]
          },
          "execution_count": 17,
          "metadata": {},
          "output_type": "execute_result"
        }
      ],
      "source": [
        "accu = training_history['val_accuracy']\n",
        "accu"
      ]
    },
    {
      "cell_type": "code",
      "execution_count": null,
      "metadata": {
        "colab": {
          "base_uri": "https://localhost:8080/",
          "height": 472
        },
        "id": "QBpfh-qkjh2O",
        "outputId": "468092ca-8dcc-4db6-c006-b4ad82c8150c"
      },
      "outputs": [
        {
          "data": {
            "image/png": "[encoded data removed]",
            "text/plain": [
              "<Figure size 640x480 with 1 Axes>"
            ]
          },
          "metadata": {},
          "output_type": "display_data"
        }
      ],
      "source": [
        "import matplotlib.pyplot as plt\n",
        "epochs=[i for i in range(1,11)]\n",
        "plt.plot(epochs,training_history['accuracy'],color='red',label='training accuracy')\n",
        "plt.plot(epochs,training_history['val_accuracy'],color='blue',label='validation accuracy')\n",
        "plt.xlabel(\"no. of epochs\")\n",
        "plt.ylabel(\"accuracy result\")\n",
        "plt.title(\"Visualization of accuracy result\")\n",
        "plt.legend()\n",
        "plt.show()"
      ]
    },
    {
      "cell_type": "code",
      "execution_count": null,
      "metadata": {
        "colab": {
          "base_uri": "https://localhost:8080/"
        },
        "id": "OQSdzu27jhs5",
        "outputId": "1550f092-753a-4fde-b400-be2af7e289a3"
      },
      "outputs": [
        {
          "data": {
            "text/plain": [
              "['Apple___Apple_scab',\n",
              " 'Apple___Black_rot',\n",
              " 'Apple___Cedar_apple_rust',\n",
              " 'Apple___healthy',\n",
              " 'Blueberry___healthy',\n",
              " 'Cherry_(including_sour)___Powdery_mildew',\n",
              " 'Cherry_(including_sour)___healthy',\n",
              " 'Corn_(maize)___Cercospora_leaf_spot Gray_leaf_spot',\n",
              " 'Corn_(maize)___Common_rust_',\n",
              " 'Corn_(maize)___Northern_Leaf_Blight',\n",
              " 'Corn_(maize)___healthy',\n",
              " 'Grape___Black_rot',\n",
              " 'Grape___Esca_(Black_Measles)',\n",
              " 'Grape___Leaf_blight_(Isariopsis_Leaf_Spot)',\n",
              " 'Grape___healthy',\n",
              " 'Orange___Haunglongbing_(Citrus_greening)',\n",
              " 'Peach___Bacterial_spot',\n",
              " 'Peach___healthy',\n",
              " 'Pepper,_bell___Bacterial_spot',\n",
              " 'Pepper,_bell___healthy',\n",
              " 'Potato___Early_blight',\n",
              " 'Potato___Late_blight',\n",
              " 'Potato___healthy',\n",
              " 'Raspberry___healthy',\n",
              " 'Soybean___healthy',\n",
              " 'Squash___Powdery_mildew',\n",
              " 'Strawberry___Leaf_scorch',\n",
              " 'Strawberry___healthy',\n",
              " 'Tomato___Bacterial_spot',\n",
              " 'Tomato___Early_blight',\n",
              " 'Tomato___Late_blight',\n",
              " 'Tomato___Leaf_Mold',\n",
              " 'Tomato___Septoria_leaf_spot',\n",
              " 'Tomato___Spider_mites Two-spotted_spider_mite',\n",
              " 'Tomato___Target_Spot',\n",
              " 'Tomato___Tomato_Yellow_Leaf_Curl_Virus',\n",
              " 'Tomato___Tomato_mosaic_virus',\n",
              " 'Tomato___healthy']"
            ]
          },
          "execution_count": 19,
          "metadata": {},
          "output_type": "execute_result"
        }
      ],
      "source": [
        "class_name = validation_set.class_names\n",
        "class_name"
      ]
    },
    {
      "cell_type": "code",
      "execution_count": null,
      "metadata": {
        "id": "JtzdppOkjhqf"
      },
      "outputs": [],
      "source": []
    },
    {
      "cell_type": "code",
      "execution_count": null,
      "metadata": {
        "id": "-T1dzhaVjhn0"
      },
      "outputs": [],
      "source": []
    },
    {
      "cell_type": "code",
      "execution_count": null,
      "metadata": {
        "colab": {
          "base_uri": "https://localhost:8080/"
        },
        "id": "3I9Z98GajhjY",
        "outputId": "f1d73975-6125-4f2d-d08f-d3d57bbea33f"
      },
      "outputs": [
        {
          "name": "stdout",
          "output_type": "stream",
          "text": [
            "Found 17572 files belonging to 38 classes.\n"
          ]
        }
      ],
      "source": [
        "test_set = tf.keras.utils.image_dataset_from_directory(\n",
        "    '/content/drive/MyDrive/New Plant Diseases Dataset(Augmented)/New Plant Diseases Dataset(Augmented)/valid',\n",
        "    labels=\"inferred\",\n",
        "    label_mode=\"categorical\",\n",
        "    class_names=None,\n",
        "    color_mode=\"rgb\",\n",
        "    batch_size=32,\n",
        "    image_size=(128, 128),\n",
        "    shuffle=False,\n",
        "    seed=None,\n",
        "    validation_split=None,\n",
        "    subset=None,\n",
        "    interpolation=\"bilinear\",\n",
        "    follow_links=False,\n",
        "    crop_to_aspect_ratio=False,\n",
        "\n",
        "\n",
        ")"
      ]
    },
    {
      "cell_type": "code",
      "execution_count": null,
      "metadata": {
        "colab": {
          "base_uri": "https://localhost:8080/"
        },
        "id": "GvpMpwoqjhf2",
        "outputId": "c617cfc5-654f-402a-90a8-d39e38548c12"
      },
      "outputs": [
        {
          "name": "stdout",
          "output_type": "stream",
          "text": [
            "\u001b[1m550/550\u001b[0m \u001b[32m━━━━━━━━━━━━━━━━━━━━\u001b[0m\u001b[37m\u001b[0m \u001b[1m1984s\u001b[0m 4s/step\n"
          ]
        },
        {
          "data": {
            "text/plain": [
              "(array([[9.99999940e-01, 1.59700517e-11, 1.80512420e-15, ...,\n",
              "         8.05429236e-21, 1.67765450e-19, 1.54352533e-18],\n",
              "        [9.99999940e-01, 4.36944170e-09, 3.21084874e-13, ...,\n",
              "         2.82551559e-18, 4.63088529e-17, 1.43488850e-16],\n",
              "        [9.99999940e-01, 6.27742428e-15, 1.17415418e-17, ...,\n",
              "         7.32688811e-29, 3.12487847e-25, 4.17836650e-22],\n",
              "        ...,\n",
              "        [3.17148707e-09, 4.71204327e-14, 4.74487914e-11, ...,\n",
              "         2.51972575e-12, 1.49541783e-13, 9.99999881e-01],\n",
              "        [3.08294545e-08, 8.39677340e-13, 9.34203964e-11, ...,\n",
              "         4.63391853e-10, 1.04248355e-11, 9.99996901e-01],\n",
              "        [5.77361533e-16, 5.99964355e-18, 7.49545067e-16, ...,\n",
              "         2.11605390e-15, 1.74176842e-14, 9.99999285e-01]], dtype=float32),\n",
              " (17572, 38))"
            ]
          },
          "execution_count": 16,
          "metadata": {},
          "output_type": "execute_result"
        }
      ],
      "source": [
        "y_pred = model.predict(test_set)\n",
        "y_pred , y_pred.shape"
      ]
    },
    {
      "cell_type": "code",
      "execution_count": null,
      "metadata": {
        "colab": {
          "base_uri": "https://localhost:8080/"
        },
        "id": "bqxtTDInnj8E",
        "outputId": "b5536157-c2cb-44b5-94e9-59c338800d0d"
      },
      "outputs": [
        {
          "data": {
            "text/plain": [
              "array([[9.99999940e-01, 1.59700517e-11, 1.80512420e-15, ...,\n",
              "        8.05429236e-21, 1.67765450e-19, 1.54352533e-18],\n",
              "       [9.99999940e-01, 4.36944170e-09, 3.21084874e-13, ...,\n",
              "        2.82551559e-18, 4.63088529e-17, 1.43488850e-16],\n",
              "       [9.99999940e-01, 6.27742428e-15, 1.17415418e-17, ...,\n",
              "        7.32688811e-29, 3.12487847e-25, 4.17836650e-22],\n",
              "       ...,\n",
              "       [3.17148707e-09, 4.71204327e-14, 4.74487914e-11, ...,\n",
              "        2.51972575e-12, 1.49541783e-13, 9.99999881e-01],\n",
              "       [3.08294545e-08, 8.39677340e-13, 9.34203964e-11, ...,\n",
              "        4.63391853e-10, 1.04248355e-11, 9.99996901e-01],\n",
              "       [5.77361533e-16, 5.99964355e-18, 7.49545067e-16, ...,\n",
              "        2.11605390e-15, 1.74176842e-14, 9.99999285e-01]], dtype=float32)"
            ]
          },
          "execution_count": 17,
          "metadata": {},
          "output_type": "execute_result"
        }
      ],
      "source": [
        "y_pred"
      ]
    },
    {
      "cell_type": "code",
      "execution_count": null,
      "metadata": {
        "id": "iN2_jxr5jhco"
      },
      "outputs": [],
      "source": [
        "predicted_categories = tf.argmax(y_pred,axis=1)"
      ]
    },
    {
      "cell_type": "code",
      "execution_count": null,
      "metadata": {
        "colab": {
          "base_uri": "https://localhost:8080/"
        },
        "id": "zkASQ8IOcCUa",
        "outputId": "4b3e004c-8051-496e-91d1-e4b6439a77bf"
      },
      "outputs": [
        {
          "data": {
            "text/plain": [
              "<tf.Tensor: shape=(17572,), dtype=int64, numpy=array([ 0,  0,  0, ..., 37, 37, 37])>"
            ]
          },
          "execution_count": 19,
          "metadata": {},
          "output_type": "execute_result"
        }
      ],
      "source": [
        "predicted_categories"
      ]
    },
    {
      "cell_type": "code",
      "execution_count": null,
      "metadata": {
        "id": "iBwtPHpAfVVe"
      },
      "outputs": [],
      "source": [
        "true_categories= tf.concat([y for x,y in test_set],axis=0)"
      ]
    },
    {
      "cell_type": "code",
      "execution_count": null,
      "metadata": {
        "colab": {
          "base_uri": "https://localhost:8080/"
        },
        "id": "aMJnF1uKTH-T",
        "outputId": "57598279-a996-4965-e122-a94487e9a002"
      },
      "outputs": [
        {
          "data": {
            "text/plain": [
              "<tf.Tensor: shape=(17572, 38), dtype=float32, numpy=\n",
              "array([[1., 0., 0., ..., 0., 0., 0.],\n",
              "       [1., 0., 0., ..., 0., 0., 0.],\n",
              "       [1., 0., 0., ..., 0., 0., 0.],\n",
              "       ...,\n",
              "       [0., 0., 0., ..., 0., 0., 1.],\n",
              "       [0., 0., 0., ..., 0., 0., 1.],\n",
              "       [0., 0., 0., ..., 0., 0., 1.]], dtype=float32)>"
            ]
          },
          "execution_count": 21,
          "metadata": {},
          "output_type": "execute_result"
        }
      ],
      "source": [
        "true_categories\n"
      ]
    },
    {
      "cell_type": "code",
      "execution_count": null,
      "metadata": {
        "colab": {
          "base_uri": "https://localhost:8080/"
        },
        "id": "-9s_fB9xTMhB",
        "outputId": "7f0b84b9-abc6-4ca5-d6b3-046c7f9ae8bd"
      },
      "outputs": [
        {
          "data": {
            "text/plain": [
              "<tf.Tensor: shape=(17572,), dtype=int64, numpy=array([ 0,  0,  0, ..., 37, 37, 37])>"
            ]
          },
          "execution_count": 22,
          "metadata": {},
          "output_type": "execute_result"
        }
      ],
      "source": [
        "y_true= tf.argmax(true_categories,axis=1)\n",
        "y_true"
      ]
    },
    {
      "cell_type": "code",
      "execution_count": null,
      "metadata": {
        "id": "20cc2uJ0quYs"
      },
      "outputs": [],
      "source": [
        "from sklearn.metrics import classification_report, confusion_matrix"
      ]
    },
    {
      "cell_type": "code",
      "execution_count": null,
      "metadata": {
        "colab": {
          "base_uri": "https://localhost:8080/"
        },
        "id": "vXAAdbMVr3Y4",
        "outputId": "cfc4bd05-615b-4a03-dab1-eb4523180954"
      },
      "outputs": [
        {
          "name": "stdout",
          "output_type": "stream",
          "text": [
            "                                                    precision    recall  f1-score   support\n",
            "\n",
            "                                Apple___Apple_scab       0.90      0.99      0.94       504\n",
            "                                 Apple___Black_rot       0.98      1.00      0.99       497\n",
            "                          Apple___Cedar_apple_rust       0.99      0.94      0.96       440\n",
            "                                   Apple___healthy       0.97      0.97      0.97       502\n",
            "                               Blueberry___healthy       0.97      0.98      0.98       454\n",
            "          Cherry_(including_sour)___Powdery_mildew       0.97      0.99      0.98       421\n",
            "                 Cherry_(including_sour)___healthy       1.00      0.98      0.99       456\n",
            "Corn_(maize)___Cercospora_leaf_spot Gray_leaf_spot       0.93      0.92      0.93       410\n",
            "                       Corn_(maize)___Common_rust_       0.99      0.99      0.99       477\n",
            "               Corn_(maize)___Northern_Leaf_Blight       0.92      0.97      0.95       477\n",
            "                            Corn_(maize)___healthy       0.99      1.00      0.99       465\n",
            "                                 Grape___Black_rot       0.99      0.96      0.97       472\n",
            "                      Grape___Esca_(Black_Measles)       0.96      1.00      0.98       480\n",
            "        Grape___Leaf_blight_(Isariopsis_Leaf_Spot)       1.00      0.99      0.99       430\n",
            "                                   Grape___healthy       1.00      0.99      0.99       423\n",
            "          Orange___Haunglongbing_(Citrus_greening)       0.97      0.99      0.98       503\n",
            "                            Peach___Bacterial_spot       0.94      0.99      0.96       459\n",
            "                                   Peach___healthy       0.99      0.98      0.98       432\n",
            "                     Pepper,_bell___Bacterial_spot       0.98      0.95      0.96       478\n",
            "                            Pepper,_bell___healthy       0.96      0.98      0.97       497\n",
            "                             Potato___Early_blight       1.00      0.96      0.98       485\n",
            "                              Potato___Late_blight       0.94      0.98      0.96       485\n",
            "                                  Potato___healthy       0.96      0.98      0.97       456\n",
            "                               Raspberry___healthy       0.99      0.99      0.99       445\n",
            "                                 Soybean___healthy       0.97      0.99      0.98       505\n",
            "                           Squash___Powdery_mildew       0.96      1.00      0.98       434\n",
            "                          Strawberry___Leaf_scorch       1.00      0.95      0.97       444\n",
            "                              Strawberry___healthy       1.00      1.00      1.00       456\n",
            "                           Tomato___Bacterial_spot       0.96      0.95      0.96       425\n",
            "                             Tomato___Early_blight       0.96      0.86      0.91       480\n",
            "                              Tomato___Late_blight       0.93      0.90      0.92       463\n",
            "                                Tomato___Leaf_Mold       0.95      0.97      0.96       470\n",
            "                       Tomato___Septoria_leaf_spot       0.99      0.81      0.89       436\n",
            "     Tomato___Spider_mites Two-spotted_spider_mite       0.93      0.95      0.94       435\n",
            "                              Tomato___Target_Spot       0.95      0.87      0.91       457\n",
            "            Tomato___Tomato_Yellow_Leaf_Curl_Virus       0.96      1.00      0.98       490\n",
            "                      Tomato___Tomato_mosaic_virus       0.95      1.00      0.97       448\n",
            "                                  Tomato___healthy       0.98      0.98      0.98       481\n",
            "\n",
            "                                          accuracy                           0.97     17572\n",
            "                                         macro avg       0.97      0.97      0.97     17572\n",
            "                                      weighted avg       0.97      0.97      0.97     17572\n",
            "\n"
          ]
        }
      ],
      "source": [
        "print(classification_report(y_true, predicted_categories,target_names =class_name))"
      ]
    },
    {
      "cell_type": "code",
      "execution_count": null,
      "metadata": {
        "id": "BLV5EekQsX1S"
      },
      "outputs": [],
      "source": [
        "conm=confusion_matrix(y_true,predicted_categories)"
      ]
    },
    {
      "cell_type": "code",
      "execution_count": null,
      "metadata": {
        "colab": {
          "base_uri": "https://localhost:8080/"
        },
        "id": "9ROolj2cVatP",
        "outputId": "d8a99894-985d-4143-b5c2-f58ecd983733"
      },
      "outputs": [
        {
          "data": {
            "text/plain": [
              "array([[498,   1,   0, ...,   0,   0,   0],\n",
              "       [  1, 495,   0, ...,   0,   0,   0],\n",
              "       [  7,   0, 415, ...,   0,   1,   1],\n",
              "       ...,\n",
              "       [  0,   0,   0, ..., 489,   0,   0],\n",
              "       [  0,   0,   0, ...,   0, 446,   0],\n",
              "       [  2,   0,   0, ...,   0,   0, 470]])"
            ]
          },
          "execution_count": 28,
          "metadata": {},
          "output_type": "execute_result"
        }
      ],
      "source": [
        "conm"
      ]
    },
    {
      "cell_type": "code",
      "execution_count": null,
      "metadata": {
        "colab": {
          "base_uri": "https://localhost:8080/"
        },
        "id": "qBPIL9SNVdXg",
        "outputId": "82504e52-16fb-43d8-a803-ae2678ed4525"
      },
      "outputs": [
        {
          "data": {
            "text/plain": [
              "(38, 38)"
            ]
          },
          "execution_count": 29,
          "metadata": {},
          "output_type": "execute_result"
        }
      ],
      "source": [
        "conm.shape"
      ]
    },
    {
      "cell_type": "code",
      "execution_count": null,
      "metadata": {
        "colab": {
          "base_uri": "https://localhost:8080/",
          "height": 1000
        },
        "id": "384i9b5GVnRc",
        "outputId": "81b49431-c0ee-49b1-d399-c9ba937c10ea"
      },
      "outputs": [
        {
          "data": {
            "text/html": [
              "<div style=\"max-width:800px; border: 1px solid var(--colab-border-color);\"><style>\n",
              "      pre.function-repr-contents {\n",
              "        overflow-x: auto;\n",
              "        padding: 8px 12px;\n",
              "        max-height: 500px;\n",
              "      }\n",
              "\n",
              "      pre.function-repr-contents.function-repr-contents-collapsed {\n",
              "        cursor: pointer;\n",
              "        max-height: 100px;\n",
              "      }\n",
              "    </style>\n",
              "    <pre style=\"white-space: initial; background:\n",
              "         var(--colab-secondary-surface-color); padding: 8px 12px;\n",
              "         border-bottom: 1px solid var(--colab-border-color);\"><b>matplotlib.pyplot.show</b><br/>def show(*args, **kwargs)</pre><pre class=\"function-repr-contents function-repr-contents-collapsed\" style=\"\"><a class=\"filepath\" style=\"display:none\" href=\"#\">/usr/local/lib/python3.10/dist-packages/matplotlib/pyplot.py</a>Display all open figures.\n",
              "\n",
              "Parameters\n",
              "----------\n",
              "block : bool, optional\n",
              "    Whether to wait for all figures to be closed before returning.\n",
              "\n",
              "    If `True` block and run the GUI main loop until all figure windows\n",
              "    are closed.\n",
              "\n",
              "    If `False` ensure that all figure windows are displayed and return\n",
              "    immediately.  In this case, you are responsible for ensuring\n",
              "    that the event loop is running to have responsive figures.\n",
              "\n",
              "    Defaults to True in non-interactive mode and to False in interactive\n",
              "    mode (see `.pyplot.isinteractive`).\n",
              "\n",
              "See Also\n",
              "--------\n",
              "ion : Enable interactive mode, which shows / updates the figure after\n",
              "      every plotting command, so that calling ``show()`` is not necessary.\n",
              "ioff : Disable interactive mode.\n",
              "savefig : Save the figure to an image file instead of showing it on screen.\n",
              "\n",
              "Notes\n",
              "-----\n",
              "**Saving figures to file and showing a window at the same time**\n",
              "\n",
              "If you want an image file as well as a user interface window, use\n",
              "`.pyplot.savefig` before `.pyplot.show`. At the end of (a blocking)\n",
              "``show()`` the figure is closed and thus unregistered from pyplot. Calling\n",
              "`.pyplot.savefig` afterwards would save a new and thus empty figure. This\n",
              "limitation of command order does not apply if the show is non-blocking or\n",
              "if you keep a reference to the figure and use `.Figure.savefig`.\n",
              "\n",
              "**Auto-show in jupyter notebooks**\n",
              "\n",
              "The jupyter backends (activated via ``%matplotlib inline``,\n",
              "``%matplotlib notebook``, or ``%matplotlib widget``), call ``show()`` at\n",
              "the end of every cell by default. Thus, you usually don&#x27;t have to call it\n",
              "explicitly there.</pre>\n",
              "      <script>\n",
              "      if (google.colab.kernel.accessAllowed && google.colab.files && google.colab.files.view) {\n",
              "        for (const element of document.querySelectorAll('.filepath')) {\n",
              "          element.style.display = 'block'\n",
              "          element.onclick = (event) => {\n",
              "            event.preventDefault();\n",
              "            event.stopPropagation();\n",
              "            google.colab.files.view(element.textContent, 401);\n",
              "          };\n",
              "        }\n",
              "      }\n",
              "      for (const element of document.querySelectorAll('.function-repr-contents')) {\n",
              "        element.onclick = (event) => {\n",
              "          event.preventDefault();\n",
              "          event.stopPropagation();\n",
              "          element.classList.toggle('function-repr-contents-collapsed');\n",
              "        };\n",
              "      }\n",
              "      </script>\n",
              "      </div>"
            ],
            "text/plain": [
              "<function matplotlib.pyplot.show(close=None, block=None)>"
            ]
          },
          "execution_count": 33,
          "metadata": {},
          "output_type": "execute_result"
        },
        {
          "data": {
            "image/png": "[encoded data removed]",
            "text/plain": [
              "<Figure size 2000x2000 with 2 Axes>"
            ]
          },
          "metadata": {},
          "output_type": "display_data"
        }
      ],
      "source": [
        "plt.figure(figsize=(20,20))\n",
        "sns.heatmap(conm)\n",
        "plt.title(\"CONFUSION MATRIX\")\n",
        "plt.show"
      ]
    },
    {
      "cell_type": "code",
      "execution_count": null,
      "metadata": {
        "id": "ZNTdSmjFVyPq"
      },
      "outputs": [],
      "source": [
        "# after this test the model in differnt file"
      ]
    }
  ],
  "metadata": {
    "colab": {
      "provenance": [],
      "include_colab_link": true
    },
    "kernelspec": {
      "display_name": "Python 3",
      "name": "python3"
    },
    "language_info": {
      "name": "python"
    }
  },
  "nbformat": 4,
  "nbformat_minor": 0
}